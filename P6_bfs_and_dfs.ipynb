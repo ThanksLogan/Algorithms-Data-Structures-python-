{
 "cells": [
  {
   "cell_type": "code",
   "execution_count": 63,
   "id": "59d6b141-98be-4272-9898-a63533964273",
   "metadata": {},
   "outputs": [],
   "source": [
    "from queue import Queue"
   ]
  },
  {
   "cell_type": "code",
   "execution_count": 64,
   "id": "edeba756-e0d5-4f4e-9d1b-30e881a52ced",
   "metadata": {},
   "outputs": [],
   "source": [
    "class Graph:\n",
    "    def __init__(self, directed=False):\n",
    "        self.directed = directed\n",
    "        self.adj = {}\n",
    "\n",
    "    def print_graph(self):\n",
    "        for i in self.adj:\n",
    "            print(i, \" : \", \" -> \".join([str(j) for j in self.adj[i]]))\n",
    "\n",
    "    def add_edge(self, from_vertex, to_vertex):\n",
    "        ### START YOUR CODE ###\n",
    "        if from_vertex in self.adj:\n",
    "            if to_vertex not in self.adj[from_vertex]:\n",
    "                self.adj.update([(from_vertex, to_vertex)])\n",
    "        else:\n",
    "            self.adj.update({from_vertex: ''})\n",
    "        if to_vertex not in self.adj: #if its not a key\n",
    "            self.adj.update({to_vertex: ''}) \n",
    "            # Also add to_vertex to self.adj, but its list should be empty\n",
    "            \n",
    "        if not self.directed:\n",
    "            if to_vertex not in self.adj[from_vertex]:\n",
    "                self.adj.update([(to_vertex, from_vertex)])# Flip from_vertex and to_vertex and add them to self.adj in a similar way as the block of code above\n",
    "        ### END YOUR CODE ###"
   ]
  },
  {
   "cell_type": "code",
   "execution_count": 65,
   "id": "2a1cf71d-789e-4011-944f-9afd9ca8a6dd",
   "metadata": {},
   "outputs": [
    {
     "name": "stdout",
     "output_type": "stream",
     "text": [
      "s  :  w\n",
      "r  :  v\n",
      "w  :  x\n",
      "v  :  \n",
      "t  :  u\n",
      "x  :  t\n",
      "u  :  y\n",
      "y  :  \n",
      "\n",
      "u  :  w\n",
      "v  :  y\n",
      "w  :  x\n",
      "x  :  y\n",
      "y  :  \n"
     ]
    }
   ],
   "source": [
    "# Do not change the test code here\n",
    "g = Graph()\n",
    "g.add_edge('s', 'r')\n",
    "g.add_edge('s', 'w')\n",
    "g.add_edge('r', 'v')\n",
    "g.add_edge('w', 't')\n",
    "g.add_edge('w', 'x')\n",
    "g.add_edge('t', 'u')\n",
    "g.add_edge('x', 'u')\n",
    "g.add_edge('x', 'y')\n",
    "g.add_edge('x', 't')\n",
    "g.add_edge('u', 'y')\n",
    "g.print_graph()\n",
    "\n",
    "print()\n",
    "dg = Graph(directed=True)\n",
    "dg.add_edge('u', 'v')\n",
    "dg.add_edge('u', 'w')\n",
    "dg.add_edge('w', 'x')\n",
    "dg.add_edge('v', 'x')\n",
    "dg.add_edge('v', 'y')\n",
    "dg.add_edge('x', 'v')\n",
    "dg.add_edge('x', 'y')\n",
    "dg.print_graph()"
   ]
  },
  {
   "cell_type": "code",
   "execution_count": 61,
   "id": "b9ae4801-0b2f-4af6-8de0-0b719b6731ff",
   "metadata": {},
   "outputs": [],
   "source": [
    "\n",
    "\n",
    "#Task 2\n",
    "\n",
    "\n"
   ]
  },
  {
   "cell_type": "code",
   "execution_count": 62,
   "id": "2b5a7dda-7bb9-4561-a593-2616e2740125",
   "metadata": {},
   "outputs": [],
   "source": [
    "def BFS(graph, source):\n",
    "    # initialize a dict for storing already visited vertices\n",
    "    visited = {}\n",
    "    # create a first in first out queue to store all the vertices for BFS\n",
    "    queue = Queue()\n",
    "\n",
    "    ### START YOUR CODE ###\n",
    "    visited[source] = None # Initialize the distance of source\n",
    "    pass # Add source to queue\n",
    "\n",
    "    while None: # Specify the loop range\n",
    "        pass # Add necessary code\n",
    "        for v in None: # loop through all adjacent vertex and enqueue it if not yet visited\n",
    "            pass # Add necessary code. Remember to update the distance of v, using the distance of its parent. Hint: all distances are stored in `visited`\n",
    "    ### END YOUR CODE ###\n",
    "\n",
    "    return visited"
   ]
  },
  {
   "cell_type": "code",
   "execution_count": 9,
   "id": "81381a4a-6c72-44f5-9aef-c96feac3f617",
   "metadata": {},
   "outputs": [
    {
     "name": "stdout",
     "output_type": "stream",
     "text": [
      "s: None\n"
     ]
    }
   ],
   "source": [
    "# Do not change the test code here\n",
    "g = Graph()\n",
    "g.add_edge('s', 'r')\n",
    "g.add_edge('s', 'w')\n",
    "g.add_edge('r', 'v')\n",
    "g.add_edge('w', 't')\n",
    "g.add_edge('w', 'x')\n",
    "g.add_edge('t', 'u')\n",
    "g.add_edge('x', 'u')\n",
    "g.add_edge('x', 'y')\n",
    "g.add_edge('x', 't')\n",
    "g.add_edge('u', 'y')\n",
    "\n",
    "visited = BFS(g, 's')\n",
    "for k, v in visited.items():\n",
    "    print(f'{k}: {v}')"
   ]
  },
  {
   "cell_type": "code",
   "execution_count": 10,
   "id": "824839c1-cc10-4e3d-9a71-9c4c9687d60e",
   "metadata": {},
   "outputs": [],
   "source": [
    "\n",
    "\n",
    "#Task 3\n",
    "\n"
   ]
  },
  {
   "cell_type": "code",
   "execution_count": 11,
   "id": "4d8d01ac-2d8a-45a7-909d-e7add1057922",
   "metadata": {},
   "outputs": [],
   "source": [
    "def DFS_iterative(graph, source):\n",
    "    ### START YOUR CODE ###\n",
    "    stack = None # Initialize the stack properly\n",
    "    visited = [] # Intialize to an empty list\n",
    "\n",
    "    while None: # Specify the loop range\n",
    "        pass # Add necessary code\n",
    "    ### END YOUR CODE ###\n",
    "\n",
    "    return visited"
   ]
  },
  {
   "cell_type": "code",
   "execution_count": 12,
   "id": "009c9c5e-3056-418c-a9ca-50fb87f8f609",
   "metadata": {},
   "outputs": [
    {
     "name": "stdout",
     "output_type": "stream",
     "text": [
      "\n",
      "DFS on 'u':\n",
      "[]\n",
      "DFS on 'w':\n",
      "[]\n"
     ]
    }
   ],
   "source": [
    "# Do not change the test code here\n",
    "print()\n",
    "dg = Graph(directed=True)\n",
    "dg.add_edge('u', 'v')\n",
    "dg.add_edge('u', 'w')\n",
    "dg.add_edge('w', 'x')\n",
    "dg.add_edge('v', 'x')\n",
    "dg.add_edge('v', 'y')\n",
    "dg.add_edge('x', 'v')\n",
    "dg.add_edge('x', 'y')\n",
    "\n",
    "print('DFS on \\'u\\':')\n",
    "visited = DFS_iterative(dg, 'u')\n",
    "print(visited)\n",
    "\n",
    "print('DFS on \\'w\\':')\n",
    "visited = DFS_iterative(dg, 'w')\n",
    "print(visited)"
   ]
  },
  {
   "cell_type": "code",
   "execution_count": 13,
   "id": "6155d171-8cb6-42fa-8294-708c1179e08a",
   "metadata": {},
   "outputs": [],
   "source": [
    "\n",
    "\n",
    "#Task 4\n",
    "\n"
   ]
  },
  {
   "cell_type": "code",
   "execution_count": 14,
   "id": "8b6a2fcb-4219-4905-b705-0fa71ffb5325",
   "metadata": {},
   "outputs": [],
   "source": [
    "time = 0 # Initialize the gloabl time\n",
    "\n",
    "def DFS(graph):\n",
    "    ### START YOUR CODE ###\n",
    "    visited = None # Hint: a dict whose keys are all the vertices in the graph, and values are initialized to False\n",
    "    discovered = None # Hint: same keys as above, values initialized to None\n",
    "    finished = None # Hint: same as above\n",
    "    ### END YOUR CODE ###\n",
    "\n",
    "    global time # Make sure to use the global variable\n",
    "    time = 0\n",
    "    ### START YOUR CODE ###\n",
    "    for u in None: # Specify loop range\n",
    "        pass # Add necessary code\n",
    "    ### END YOUR CODE ###\n",
    "\n",
    "    return discovered, finished\n",
    "\n",
    "def DFS_visit(graph, vertex, visited, discovered, finished):\n",
    "    ### START YOUR CODE ###\n",
    "    global time\n",
    "    #time +=1\n",
    "    #u.color = grey\n",
    "    \n",
    "    pass # Add necessary code\n",
    "    for v in graph.vertex: # Specify loop range\n",
    "        if (vertex.color==WHITE): # Add necessary code\n",
    "            v.pi = u\n",
    "            DFS_visit(graph, vertex, discovered, finished)\n",
    "    u.color = BLACK\n",
    "    time += 1;\n",
    "    u.f = time\n",
    "    ### END YOUR CODE ###"
   ]
  },
  {
   "cell_type": "code",
   "execution_count": 15,
   "id": "746e2757-0b79-4a06-aa10-4bf241847563",
   "metadata": {},
   "outputs": [
    {
     "name": "stdout",
     "output_type": "stream",
     "text": [
      "\n"
     ]
    },
    {
     "ename": "TypeError",
     "evalue": "'NoneType' object is not iterable",
     "output_type": "error",
     "traceback": [
      "\u001b[0;31m---------------------------------------------------------------------------\u001b[0m",
      "\u001b[0;31mTypeError\u001b[0m                                 Traceback (most recent call last)",
      "Input \u001b[0;32mIn [15]\u001b[0m, in \u001b[0;36m<cell line: 13>\u001b[0;34m()\u001b[0m\n\u001b[1;32m     10\u001b[0m dg\u001b[38;5;241m.\u001b[39madd_edge(\u001b[38;5;124m'\u001b[39m\u001b[38;5;124mz\u001b[39m\u001b[38;5;124m'\u001b[39m, \u001b[38;5;124m'\u001b[39m\u001b[38;5;124mz\u001b[39m\u001b[38;5;124m'\u001b[39m)\n\u001b[1;32m     12\u001b[0m \u001b[38;5;28mprint\u001b[39m()\n\u001b[0;32m---> 13\u001b[0m discovered, finished \u001b[38;5;241m=\u001b[39m \u001b[43mDFS\u001b[49m\u001b[43m(\u001b[49m\u001b[43mdg\u001b[49m\u001b[43m)\u001b[49m\n\u001b[1;32m     14\u001b[0m \u001b[38;5;28mprint\u001b[39m(\u001b[38;5;124m'\u001b[39m\u001b[38;5;124mdiscovered time:\u001b[39m\u001b[38;5;124m'\u001b[39m, discovered)\n\u001b[1;32m     15\u001b[0m \u001b[38;5;28mprint\u001b[39m(\u001b[38;5;124m'\u001b[39m\u001b[38;5;124mfinished time:\u001b[39m\u001b[38;5;124m'\u001b[39m, finished)\n",
      "Input \u001b[0;32mIn [14]\u001b[0m, in \u001b[0;36mDFS\u001b[0;34m(graph)\u001b[0m\n\u001b[1;32m     11\u001b[0m time \u001b[38;5;241m=\u001b[39m \u001b[38;5;241m0\u001b[39m\n\u001b[1;32m     12\u001b[0m \u001b[38;5;66;03m### START YOUR CODE ###\u001b[39;00m\n\u001b[0;32m---> 13\u001b[0m \u001b[38;5;28;01mfor\u001b[39;00m u \u001b[38;5;129;01min\u001b[39;00m \u001b[38;5;28;01mNone\u001b[39;00m: \u001b[38;5;66;03m# Specify loop range\u001b[39;00m\n\u001b[1;32m     14\u001b[0m     \u001b[38;5;28;01mpass\u001b[39;00m \u001b[38;5;66;03m# Add necessary code\u001b[39;00m\n\u001b[1;32m     15\u001b[0m \u001b[38;5;66;03m### END YOUR CODE ###\u001b[39;00m\n",
      "\u001b[0;31mTypeError\u001b[0m: 'NoneType' object is not iterable"
     ]
    }
   ],
   "source": [
    "# Do not change the test code here\n",
    "dg = Graph(directed=True)\n",
    "dg.add_edge('u', 'v')\n",
    "dg.add_edge('u', 'x')\n",
    "dg.add_edge('x', 'v')\n",
    "dg.add_edge('v', 'y')\n",
    "dg.add_edge('y', 'x')\n",
    "dg.add_edge('w', 'y')\n",
    "dg.add_edge('w', 'z')\n",
    "dg.add_edge('z', 'z')\n",
    "\n",
    "print()\n",
    "discovered, finished = DFS(dg)\n",
    "print('discovered time:', discovered)\n",
    "print('finished time:', finished)"
   ]
  },
  {
   "cell_type": "code",
   "execution_count": null,
   "id": "a04f12a3-53d5-4e45-8742-4f1a4597ff0b",
   "metadata": {},
   "outputs": [],
   "source": []
  }
 ],
 "metadata": {
  "kernelspec": {
   "display_name": "Python 3 (ipykernel)",
   "language": "python",
   "name": "python3"
  },
  "language_info": {
   "codemirror_mode": {
    "name": "ipython",
    "version": 3
   },
   "file_extension": ".py",
   "mimetype": "text/x-python",
   "name": "python",
   "nbconvert_exporter": "python",
   "pygments_lexer": "ipython3",
   "version": "3.9.12"
  }
 },
 "nbformat": 4,
 "nbformat_minor": 5
}
