{
 "cells": [
  {
   "cell_type": "code",
   "execution_count": null,
   "id": "c844a4b7-90a5-46e7-99bf-1316a19674d9",
   "metadata": {},
   "outputs": [],
   "source": [
    "import numpy as np\n",
    "\n",
    "def insertion_sort(A):\n",
    "    \"\"\" \n",
    "    Args\n",
    "        A: Input array (list)\n",
    "    returns\n",
    "        output: Input array sorted\n",
    "    \"\"\"\n",
    "    output = A.copy()\n",
    "\n",
    "    for j in range(1,len(output)):\n",
    "        key = output[j] #key: the element at index j\n",
    "        i = j - 1 #i is the inner loops index \n",
    "        ### START YOUR CODE ###\n",
    "        while i>=0: #while element to left of key is greater than it, we swap\n",
    "                output[i+1] = output[i] #swap with value to righht\n",
    "                output[i] = key #swap with placeholder\n",
    "                i-=1 #index decrements to compare to next element\n",
    "        ### END YOUR CODE ###   \n",
    "    return output"
   ]
  },
  {
   "cell_type": "code",
   "execution_count": null,
   "id": "49dfaea6-8ef4-4abb-b5f1-e2527fdee0ee",
   "metadata": {},
   "outputs": [],
   "source": [
    "# Test code. Do not change the code in this cell\n",
    "np.random.seed(0)\n",
    "\n",
    "arr = np.random.randint(1, 11, 15)\n",
    "print('Input:', arr)\n",
    "print('Output:', insertion_sort(arr))"
   ]
  },
  {
   "cell_type": "code",
   "execution_count": 1,
   "id": "257beec3",
   "metadata": {},
   "outputs": [
    {
     "name": "stdout",
     "output_type": "stream",
     "text": [
      "Iteration 1: 1 swaps\n",
      "Iteration 2: 1 swaps\n",
      "Iteration 3: 0 swaps\n",
      "Iteration 4: 4 swaps\n",
      "Iteration 5: 3 swaps\n",
      "Input: [5, 2, 4, 6, 1, 3]\n",
      "Output: [1, 2, 3, 4, 5, 6]\n",
      "count: 9\n"
     ]
    }
   ],
   "source": [
    "def insertion_sort_verbose(A):\n",
    "    \"\"\" \n",
    "    Args\n",
    "        A: Input array (list)\n",
    "    returns\n",
    "        output: Input array sorted\n",
    "        count: The total number of swaps occurred\n",
    "    \"\"\"\n",
    "    output = A.copy()\n",
    "\n",
    "    count = 0\n",
    "    for j in range(1,len(output)):\n",
    "        key = output[j]\n",
    "        i = j - 1\n",
    "        tmp = 0\n",
    "        ### START YOUR CODE ###\n",
    "        while i >= 0 and output[i] > key:\n",
    "            output[i+1] = output[i] #swap with value to right\n",
    "            output[i] = key #swap with placeholder\n",
    "            tmp+=1\n",
    "            i-=1#index decrements to compare to next element\n",
    "                                            #Note that you need to update the `tmp` and `count` variables\n",
    "        count= count + tmp\n",
    "            \n",
    "        ### END YOUR CODE ###\n",
    "        print(f'Iteration {j}: {tmp} swaps')\n",
    "\n",
    "    return output, count\n",
    "\n",
    "# Test code. Do not change the code in this cell\n",
    "arr = [5,2,4,6,1,3]\n",
    "output, count = insertion_sort_verbose(arr)\n",
    "print('Input:', arr)\n",
    "print('Output:', output)\n",
    "print('count:', count)"
   ]
  },
  {
   "cell_type": "code",
   "execution_count": 1,
   "id": "0b367a0f",
   "metadata": {},
   "outputs": [],
   "source": [
    "import numpy as np\n",
    "\n",
    "def merge(left, right):\n",
    "    \"\"\"\n",
    "    Args\n",
    "        left: Input array (list)\n",
    "    Returns\n",
    "        merged: Merged output\n",
    "    \"\"\"\n",
    "    merged = left + right\n",
    "    left.append(float('inf'))\n",
    "    right.append(float('inf'))\n",
    "\n",
    "    ### START YOUR CODE ###\n",
    "    i, j = 0, 0 # Initialize i, j to proper values\n",
    "\n",
    "    for k in range(len(merged)): # could be length using left and righht\n",
    "        if left[i] < right[j]: \n",
    "            merged[k] = left[i] #item from left array joins new array if less\n",
    "            #merged.append(left[i])\n",
    "            i+=1\n",
    "        else:\n",
    "            merged[k] = right[j]\n",
    "            #merged.append(right[j])\n",
    "            j+=1 # Replace `pass` with the code for copying element back to `merged` and incrementing `i` or `j`\n",
    "    ### END YOUR CODE ###\n",
    "\n",
    "    return merged\n",
    "\n",
    "def merge_sort(arr):\n",
    "    \"\"\"\n",
    "    \"\"\"\n",
    "    if len(arr) > 1:\n",
    "        ### START YOUR CODE ###\n",
    "        mid = len(arr) // 2 # Replace `None` with the code for computing the mid-point of `arr`\n",
    "        left = merge_sort(arr[:mid]) # Recursive call of `merge_sort` on the left half of input\n",
    "        right = merge_sort(arr[mid:]) # Recursive call of `merge_sort` on the right half of input\n",
    "        return merge(left, right)# Replace `None` with the proper code of calling `merge`\n",
    "        ### END YOUR CODE ###\n",
    "    else:\n",
    "        ### START YOUR CODE ###\n",
    "        return arr # Replace `None` with the proper return value\n",
    "        ### END YOUR CODE ###\n",
    "            "
   ]
  },
  {
   "cell_type": "code",
   "execution_count": 2,
   "id": "ee5aa5f1",
   "metadata": {},
   "outputs": [
    {
     "name": "stdout",
     "output_type": "stream",
     "text": [
      "Input: [6, 9, 10, 6, 1, 1, 2, 8, 7, 10, 3, 5, 6, 3, 5]\n",
      "Output: [1, 1, 2, 3, 3, 5, 5, 6, 6, 6, 7, 8, 9, 10, 10]\n"
     ]
    }
   ],
   "source": [
    "# Test code. Do not change the code in this cell\n",
    "np.random.seed(1)\n",
    "\n",
    "arr = np.random.randint(1, 11, 15).tolist()\n",
    "output = merge_sort(arr)\n",
    "print('Input:', arr)\n",
    "print('Output:', output)"
   ]
  },
  {
   "cell_type": "code",
   "execution_count": null,
   "id": "f0ccbffb-f31d-4f8f-8bd1-2a375b820647",
   "metadata": {},
   "outputs": [],
   "source": []
  }
 ],
 "metadata": {
  "kernelspec": {
   "display_name": "Python 3 (ipykernel)",
   "language": "python",
   "name": "python3"
  },
  "language_info": {
   "codemirror_mode": {
    "name": "ipython",
    "version": 3
   },
   "file_extension": ".py",
   "mimetype": "text/x-python",
   "name": "python",
   "nbconvert_exporter": "python",
   "pygments_lexer": "ipython3",
   "version": "3.9.12"
  }
 },
 "nbformat": 4,
 "nbformat_minor": 5
}
