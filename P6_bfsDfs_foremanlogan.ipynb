{
 "cells": [
  {
   "cell_type": "code",
   "execution_count": 53,
   "id": "efaef7d2-2978-4d70-9aea-2d29faef2e65",
   "metadata": {},
   "outputs": [],
   "source": [
    "from queue import Queue"
   ]
  },
  {
   "cell_type": "code",
   "execution_count": 54,
   "id": "8b5cd6b9-e5ac-4c50-b474-36bc44b21004",
   "metadata": {},
   "outputs": [],
   "source": [
    "class Graph:\n",
    "    def __init__(self, directed=False):\n",
    "        self.directed = directed\n",
    "        self.adj = {}\n",
    "\n",
    "    def print_graph(self):\n",
    "        for i in self.adj:\n",
    "            print(i, \" : \", \" -> \".join([str(j) for j in self.adj[i]]))\n",
    "\n",
    "    def add_edge(self, from_vertex, to_vertex):\n",
    "        ### START YOUR CODE ###\n",
    "        if from_vertex in self.adj:\n",
    "            if to_vertex not in self.adj[from_vertex]:\n",
    "                self.adj[from_vertex].append(to_vertex)\n",
    "                \n",
    "        else:\n",
    "            self.adj[from_vertex] = [to_vertex]\n",
    "        if to_vertex not in self.adj: #if its not a key\n",
    "            self.adj[to_vertex] = []\n",
    "            pass\n",
    "            # Also add to_vertex to self.adj, but its list should be empty\n",
    "            \n",
    "        if not self.directed:\n",
    "            self.adj[to_vertex].append(from_vertex)\n",
    "            pass \n",
    "        # Flip from_vertex and to_vertex and add them to self.adj in a similar way as the block of code above\n",
    "        ### END YOUR CODE ###"
   ]
  },
  {
   "cell_type": "code",
   "execution_count": 55,
   "id": "c2cb8ecf-1fa9-4256-97cb-5c44598aa1e7",
   "metadata": {},
   "outputs": [
    {
     "name": "stdout",
     "output_type": "stream",
     "text": [
      "s  :  r -> w\n",
      "r  :  s -> v\n",
      "w  :  s -> t -> x\n",
      "v  :  r\n",
      "t  :  w -> u -> x\n",
      "x  :  w -> u -> y -> t\n",
      "u  :  t -> x -> y\n",
      "y  :  x -> u\n",
      "\n",
      "u  :  v -> w\n",
      "v  :  x -> y\n",
      "w  :  x\n",
      "x  :  v -> y\n",
      "y  :  \n"
     ]
    }
   ],
   "source": [
    "# Do not change the test code here\n",
    "g = Graph()\n",
    "g.add_edge('s', 'r')\n",
    "g.add_edge('s', 'w')\n",
    "g.add_edge('r', 'v')\n",
    "g.add_edge('w', 't')\n",
    "g.add_edge('w', 'x')\n",
    "g.add_edge('t', 'u')\n",
    "g.add_edge('x', 'u')\n",
    "g.add_edge('x', 'y')\n",
    "g.add_edge('x', 't')\n",
    "g.add_edge('u', 'y')\n",
    "g.print_graph()\n",
    "\n",
    "print()\n",
    "dg = Graph(directed=True)\n",
    "dg.add_edge('u', 'v')\n",
    "dg.add_edge('u', 'w')\n",
    "dg.add_edge('w', 'x')\n",
    "dg.add_edge('v', 'x')\n",
    "dg.add_edge('v', 'y')\n",
    "dg.add_edge('x', 'v')\n",
    "dg.add_edge('x', 'y')\n",
    "dg.print_graph()"
   ]
  },
  {
   "cell_type": "code",
   "execution_count": 56,
   "id": "b7fb43fd-b8d1-4c2e-b9bd-3256259d9b73",
   "metadata": {},
   "outputs": [],
   "source": [
    "def BFS(graph, source):\n",
    "    # initialize a dict for storing already visited vertices\n",
    "    visited = {}\n",
    "    # create a first in first out queue to store all the vertices for BFS\n",
    "    queue = Queue()\n",
    "\n",
    "    ### START YOUR CODE ###\n",
    "    visited[source] = 0 # Initialize the distance of source\n",
    "    queue.put(source) # Add source to queue\n",
    "\n",
    "    while not queue.empty(): # Specify the loop range\n",
    "        u = queue.get(0) # Add necessary code\n",
    "        for v in graph.adj[u]: # loop through all adjacent vertex and enqueue it if not yet visited\n",
    "            if v not in visited: # Add necessary code. Remember to update the distance of v, using the distance of its parent. Hint: all distances are stored in `visited`\n",
    "                visited[v]=visited[u] + 1\n",
    "                queue.put(v)\n",
    "    ### END YOUR CODE ###\n",
    "\n",
    "    return visited"
   ]
  },
  {
   "cell_type": "code",
   "execution_count": 57,
   "id": "ca0c9506-f361-4676-bf56-4d84b89cb71e",
   "metadata": {},
   "outputs": [
    {
     "name": "stdout",
     "output_type": "stream",
     "text": [
      "s: 0\n",
      "r: 1\n",
      "w: 1\n",
      "v: 2\n",
      "t: 2\n",
      "x: 2\n",
      "u: 3\n",
      "y: 3\n"
     ]
    }
   ],
   "source": [
    "# Do not change the test code here\n",
    "g = Graph()\n",
    "g.add_edge('s', 'r')\n",
    "g.add_edge('s', 'w')\n",
    "g.add_edge('r', 'v')\n",
    "g.add_edge('w', 't')\n",
    "g.add_edge('w', 'x')\n",
    "g.add_edge('t', 'u')\n",
    "g.add_edge('x', 'u')\n",
    "g.add_edge('x', 'y')\n",
    "g.add_edge('x', 't')\n",
    "g.add_edge('u', 'y')\n",
    "\n",
    "visited = BFS(g, 's')\n",
    "for k, v in visited.items():\n",
    "    print(f'{k}: {v}')"
   ]
  },
  {
   "cell_type": "code",
   "execution_count": 58,
   "id": "0c6b803e-cba0-4a1d-9fc6-c85b216139eb",
   "metadata": {},
   "outputs": [],
   "source": [
    "def DFS_iterative(graph, source):\n",
    "    ### START YOUR CODE ###\n",
    "    stack = [] # Initialize the stack properly (stack list)\n",
    "    visited = [] # Intialize to an empty list\n",
    "    stack.append(source)\n",
    "    \n",
    "    while (len(stack)): # Specify the loop range\n",
    "        u = stack.pop()\n",
    "        if(u not in visited):\n",
    "            visited.append(u)\n",
    "            for node in graph.adj[u]:\n",
    "                if(node not in visited):\n",
    "                    stack.append(node)\n",
    "    ### END YOUR CODE ###\n",
    "\n",
    "    return visited"
   ]
  },
  {
   "cell_type": "code",
   "execution_count": 59,
   "id": "a091f0cb-b602-46ee-88ec-e451934df2de",
   "metadata": {},
   "outputs": [
    {
     "name": "stdout",
     "output_type": "stream",
     "text": [
      "\n",
      "DFS on 'u':\n",
      "['u', 'w', 'x', 'y', 'v']\n",
      "DFS on 'w':\n",
      "['w', 'x', 'y', 'v']\n"
     ]
    }
   ],
   "source": [
    "# Do not change the test code here\n",
    "print()\n",
    "dg = Graph(directed=True)\n",
    "dg.add_edge('u', 'v')\n",
    "dg.add_edge('u', 'w')\n",
    "dg.add_edge('w', 'x')\n",
    "dg.add_edge('v', 'x')\n",
    "dg.add_edge('v', 'y')\n",
    "dg.add_edge('x', 'v')\n",
    "dg.add_edge('x', 'y')\n",
    "\n",
    "print('DFS on \\'u\\':')\n",
    "visited = DFS_iterative(dg, 'u')\n",
    "print(visited)\n",
    "\n",
    "print('DFS on \\'w\\':')\n",
    "visited = DFS_iterative(dg, 'w')\n",
    "print(visited)"
   ]
  },
  {
   "cell_type": "code",
   "execution_count": 21,
   "id": "a08bd74b-88bd-463e-834a-571322d98270",
   "metadata": {
    "tags": []
   },
   "outputs": [],
   "source": [
    "time = 0 # Initialize the global time\n",
    "\n",
    "def DFS(graph):\n",
    "    ### START YOUR CODE ###\n",
    "    visited = dict.fromkeys(graph, False)# Hint: a dict whose keys are all the vertices in the graph, and values are initialized to False\n",
    "    discovered = dict.fromkeys(graph, None)# Hint: a dict whose keys are all the vertices in the graph, and values are initialized to False\n",
    "    finished = dict.fromkeys(graph, None)# Hint: a dict whose keys are all the vertices in the graph, and values are initialized to False\n",
    "    ### END YOUR CODE ###\n",
    "\n",
    "    global time # Make sure to use the global variable\n",
    "    time = 0\n",
    "    ### START YOUR CODE ###\n",
    "    for u in visited: # Specify loop range\n",
    "        if( visited[u] == False):\n",
    "            DFS_visit(graph, u, visited, discovered, finished)\n",
    "    ### END YOUR CODE ###\n",
    "\n",
    "    return discovered, finished\n",
    "\n",
    "def DFS_visit(graph, vertex, visited, discovered, finished):\n",
    "    ### START YOUR CODE ###\n",
    "    global time\n",
    "    time+=1\n",
    "    discovered[vertex] = time\n",
    "    visited[vertex] = True\n",
    "\n",
    "    for v in graph.adj[vertex]: # Specify loop range\n",
    "        if (visited[v] == False): # Add necessary code\n",
    "            DFS_visit(graph, vertex, visited, discovered, finished)\n",
    "    time+=1;\n",
    "    finished[vertex] = time\n",
    "    ### END YOUR CODE ###"
   ]
  },
  {
   "cell_type": "code",
   "execution_count": 22,
   "id": "86738606-6af4-484d-96b9-e5316f537de7",
   "metadata": {},
   "outputs": [
    {
     "ename": "NameError",
     "evalue": "name 'Graph' is not defined",
     "output_type": "error",
     "traceback": [
      "\u001b[1;31m---------------------------------------------------------------------------\u001b[0m",
      "\u001b[1;31mNameError\u001b[0m                                 Traceback (most recent call last)",
      "Input \u001b[1;32mIn [22]\u001b[0m, in \u001b[0;36m<cell line: 2>\u001b[1;34m()\u001b[0m\n\u001b[0;32m      1\u001b[0m \u001b[38;5;66;03m# Do not change the test code here\u001b[39;00m\n\u001b[1;32m----> 2\u001b[0m dg \u001b[38;5;241m=\u001b[39m \u001b[43mGraph\u001b[49m(directed\u001b[38;5;241m=\u001b[39m\u001b[38;5;28;01mTrue\u001b[39;00m)\n\u001b[0;32m      3\u001b[0m dg\u001b[38;5;241m.\u001b[39madd_edge(\u001b[38;5;124m'\u001b[39m\u001b[38;5;124mu\u001b[39m\u001b[38;5;124m'\u001b[39m, \u001b[38;5;124m'\u001b[39m\u001b[38;5;124mv\u001b[39m\u001b[38;5;124m'\u001b[39m)\n\u001b[0;32m      4\u001b[0m dg\u001b[38;5;241m.\u001b[39madd_edge(\u001b[38;5;124m'\u001b[39m\u001b[38;5;124mu\u001b[39m\u001b[38;5;124m'\u001b[39m, \u001b[38;5;124m'\u001b[39m\u001b[38;5;124mx\u001b[39m\u001b[38;5;124m'\u001b[39m)\n",
      "\u001b[1;31mNameError\u001b[0m: name 'Graph' is not defined"
     ]
    }
   ],
   "source": [
    "# Do not change the test code here\n",
    "dg = Graph(directed=True)\n",
    "dg.add_edge('u', 'v')\n",
    "dg.add_edge('u', 'x')\n",
    "dg.add_edge('x', 'v')\n",
    "dg.add_edge('v', 'y')\n",
    "dg.add_edge('y', 'x')\n",
    "dg.add_edge('w', 'y')\n",
    "dg.add_edge('w', 'z')\n",
    "dg.add_edge('z', 'z')\n",
    "\n",
    "print()\n",
    "discovered, finished = DFS(dg)\n",
    "print('discovered time:', discovered)\n",
    "print('finished time:', finished)"
   ]
  },
  {
   "cell_type": "code",
   "execution_count": null,
   "id": "7784c913-0661-43ec-9727-301e15ec3d8f",
   "metadata": {},
   "outputs": [],
   "source": []
  },
  {
   "cell_type": "code",
   "execution_count": null,
   "id": "da226e15-3587-4bde-8de2-51edb9126eec",
   "metadata": {},
   "outputs": [],
   "source": []
  },
  {
   "cell_type": "code",
   "execution_count": null,
   "id": "42c0eebe-1b74-4bbe-8ecc-ba2bc38396f4",
   "metadata": {},
   "outputs": [],
   "source": []
  }
 ],
 "metadata": {
  "kernelspec": {
   "display_name": "Python 3 (ipykernel)",
   "language": "python",
   "name": "python3"
  },
  "language_info": {
   "codemirror_mode": {
    "name": "ipython",
    "version": 3
   },
   "file_extension": ".py",
   "mimetype": "text/x-python",
   "name": "python",
   "nbconvert_exporter": "python",
   "pygments_lexer": "ipython3",
   "version": "3.9.12"
  }
 },
 "nbformat": 4,
 "nbformat_minor": 5
}
